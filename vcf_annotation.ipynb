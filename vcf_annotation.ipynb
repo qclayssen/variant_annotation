{
 "cells": [
  {
   "cell_type": "code",
   "execution_count": 3,
   "id": "ccb42076-5de4-4d05-9d42-08ca841a07ac",
   "metadata": {},
   "outputs": [],
   "source": [
    "def load_reference_vcf(reference_vcf_file):\n",
    "    \"\"\"\n",
    "    Load the reference VCF file and create a dictionary with variants.\n",
    "    Returns a dictionary where the keys are variant positions and the values are the corresponding variant records.\n",
    "    \"\"\"\n",
    "    variants_dict = {}\n",
    "    with open(reference_vcf_file, 'r') as vcf_file:\n",
    "        for line in vcf_file:\n",
    "            if line.startswith('#'):\n",
    "                continue  # Skip header lines\n",
    "            fields = line.strip().split('\\t')\n",
    "            position = int(fields[1])\n",
    "            variants_dict[position] = line\n",
    "    return variants_dict\n",
    "\n",
    "def annotate_vcf(reference_vcf_file, input_vcf_file, output_vcf_file):\n",
    "    \"\"\"\n",
    "    Annotate the input VCF file using the reference VCF file and save the annotated VCF to the output file.\n",
    "    \"\"\"\n",
    "    variants_dict = load_reference_vcf(reference_vcf_file)\n",
    "    with open(input_vcf_file, 'r') as input_file, open(output_vcf_file, 'w') as output_file:\n",
    "        for line in input_file:\n",
    "            if line.startswith('#'):\n",
    "                output_file.write(line)\n",
    "                continue  # Skip header lines\n",
    "            fields = line.strip().split()\n",
    "            position = int(fields[1])\n",
    "            if position in variants_dict:\n",
    "                variant_record = variants_dict[position]\n",
    "                annotated_line = line.strip() + '\\t' + variant_record\n",
    "                output_file.write(annotated_line + '\\n')\n",
    "            else:\n",
    "                output_file.write(line)\n",
    "\n",
    "# Provide the paths to the reference VCF, input VCF, and output VCF files\n",
    "# reference_vcf_file is subset of file from https://www.ncbi.nlm.nih.gov/snp/docs/products/vcf/redesign/\n",
    "reference_vcf_file = 'dbsnp.vcf'\n",
    "\n",
    "input_vcf_file = 'input.vcf'\n",
    "\n",
    "\n",
    "output_vcf_file = 'output.vcf'\n",
    "# you can then used the RS= code  in https://www.ncbi.nlm.nih.gov/snp/ to find the associated pathology\n",
    "\n",
    "# Call the function to annotate the VCF file\n",
    "annotate_vcf(reference_vcf_file, input_vcf_file, output_vcf_file)\n"
   ]
  },
  {
   "cell_type": "code",
   "execution_count": null,
   "id": "c63cd373-86f3-4cf1-9cc3-4c73f10952a2",
   "metadata": {},
   "outputs": [],
   "source": []
  }
 ],
 "metadata": {
  "kernelspec": {
   "display_name": "Python 3 (ipykernel)",
   "language": "python",
   "name": "python3"
  },
  "language_info": {
   "codemirror_mode": {
    "name": "ipython",
    "version": 3
   },
   "file_extension": ".py",
   "mimetype": "text/x-python",
   "name": "python",
   "nbconvert_exporter": "python",
   "pygments_lexer": "ipython3",
   "version": "3.8.16"
  }
 },
 "nbformat": 4,
 "nbformat_minor": 5
}
